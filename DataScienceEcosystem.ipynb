{
 "cells": [
  {
   "cell_type": "markdown",
   "id": "7563bba5-88f5-4b98-a619-f6f69f02259f",
   "metadata": {},
   "source": [
    "# Data Science Tools and Ecosystem"
   ]
  },
  {
   "cell_type": "markdown",
   "id": "4256b74a-17f1-422b-ae5a-de8f39d381ea",
   "metadata": {},
   "source": [
    "### In this notebook, Data Science Tools and Ecosystem are summarized."
   ]
  },
  {
   "cell_type": "markdown",
   "id": "54ba90cf-ab10-41ce-a882-16850283c328",
   "metadata": {},
   "source": [
    "Some of the popular languages that Data Scientists use are:\n",
    "1. Python\n",
    "2. R\n",
    "3. Java\n",
    "4. Julia\n",
    "5. SQL"
   ]
  },
  {
   "cell_type": "markdown",
   "id": "19e02d50-2e85-4e30-be4a-2bcb5db8b0da",
   "metadata": {},
   "source": [
    "Some of the commonly used libraries used by Data Scientists include:\n",
    "1. NumPy\n",
    "2. SciPy\n",
    "3. Matplotlib\n",
    "4. Scikit-learn\n",
    "5. Pandas"
   ]
  },
  {
   "cell_type": "markdown",
   "id": "3414cac2-3250-4c16-9089-2de10c3fa2c1",
   "metadata": {},
   "source": [
    "### Data Science Tools Table\n",
    "| Data Science Tools |\n",
    "|----------------------|\n",
    "|Jupyter Lab|\n",
    "|RStudio|\n",
    "|IBM Watson|"
   ]
  },
  {
   "cell_type": "markdown",
   "id": "5896bf74-c034-4ba4-a243-1a7b8bf30782",
   "metadata": {},
   "source": [
    "### Below are a few examples of evaluating arithmetic expressions in Python"
   ]
  },
  {
   "cell_type": "code",
   "execution_count": 1,
   "id": "964ebce3-e6ea-4542-b2a5-593637d56f25",
   "metadata": {},
   "outputs": [
    {
     "data": {
      "text/plain": [
       "17"
      ]
     },
     "execution_count": 1,
     "metadata": {},
     "output_type": "execute_result"
    }
   ],
   "source": [
    "(3*4)+5"
   ]
  },
  {
   "cell_type": "code",
   "execution_count": 2,
   "id": "7f5fc2d3-43ce-4c80-a74c-b3d575d66e54",
   "metadata": {},
   "outputs": [
    {
     "data": {
      "text/plain": [
       "3.3333333333333335"
      ]
     },
     "execution_count": 2,
     "metadata": {},
     "output_type": "execute_result"
    }
   ],
   "source": [
    "# This will convert 200 minutes to hours by diving by 60\n",
    "200/60"
   ]
  },
  {
   "cell_type": "markdown",
   "id": "0b5b33ff-8c7f-492e-aa63-9b9d8658a450",
   "metadata": {},
   "source": [
    "### Objectives\n",
    "* Listing data science languages\n",
    "* Listing data science libraries\n",
    "* Created table for data science tools\n",
    "* Evaluating arithmetic expressions"
   ]
  },
  {
   "cell_type": "markdown",
   "id": "d201f68e-daee-4c9b-9f21-9550083b5cae",
   "metadata": {},
   "source": [
    "## Author\n",
    "Jasper Riley P. Casile"
   ]
  }
 ],
 "metadata": {
  "kernelspec": {
   "display_name": "Python 3 (ipykernel)",
   "language": "python",
   "name": "python3"
  },
  "language_info": {
   "codemirror_mode": {
    "name": "ipython",
    "version": 3
   },
   "file_extension": ".py",
   "mimetype": "text/x-python",
   "name": "python",
   "nbconvert_exporter": "python",
   "pygments_lexer": "ipython3",
   "version": "3.11.5"
  }
 },
 "nbformat": 4,
 "nbformat_minor": 5
}
